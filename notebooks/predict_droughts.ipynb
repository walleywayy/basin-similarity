{
  "cells": [
    {
      "cell_type": "markdown",
      "metadata": {},
      "source": [
        "# Basin Similarity and Drought Prediction\n",
        "\n",
        "This notebook demonstrates:\n",
        "1. **Basin similarity mapping** using UMAP/PCA\n",
        "2. **Drought prediction** using Random Forest\n",
        "3. **Streamflow prediction** for ungauged basins\n",
        "\n",
        "## Data Overview\n",
        "- **Attributes**: Basin characteristics (elevation, climate, etc.)\n",
        "- **Timeseries**: Streamflow, precipitation, temperature\n",
        "- **Target**: Drought events (SRI < -1.0)\n"
      ]
    },
    {
      "cell_type": "code",
      "execution_count": null,
      "metadata": {},
      "outputs": [],
      "source": [
        "import pandas as pd\n",
        "import numpy as np\n",
        "import matplotlib.pyplot as plt\n",
        "import seaborn as sns\n",
        "from sklearn.model_selection import train_test_split\n",
        "from sklearn.ensemble import RandomForestClassifier, RandomForestRegressor\n",
        "from sklearn.metrics import classification_report, mean_squared_error, r2_score\n",
        "from sklearn.preprocessing import StandardScaler\n",
        "import umap\n",
        "from sklearn.decomposition import PCA\n",
        "import warnings\n",
        "warnings.filterwarnings('ignore')\n",
        "\n",
        "# Set style\n",
        "plt.style.use('seaborn-v0_8')\n",
        "sns.set_palette(\"husl\")\n"
      ]
    },
    {
      "cell_type": "markdown",
      "metadata": {},
      "source": [
        "## Load Data\n"
      ]
    },
    {
      "cell_type": "code",
      "execution_count": null,
      "metadata": {},
      "outputs": [],
      "source": [
        "# Load attributes and timeseries\n",
        "attrs = pd.read_csv(\"data/attributes.csv\")\n",
        "ts = pd.read_csv(\"data/timeseries.csv\")\n",
        "\n",
        "print(f\"Attributes shape: {attrs.shape}\")\n",
        "print(f\"Timeseries shape: {ts.shape}\")\n",
        "print(f\"\\nAttributes columns: {list(attrs.columns)}\")\n",
        "print(f\"Timeseries columns: {list(ts.columns)}\")\n",
        "\n",
        "# Display first few rows\n",
        "print(\"\\nAttributes:\")\n",
        "print(attrs.head())\n",
        "print(\"\\nTimeseries:\")\n",
        "print(ts.head())\n"
      ]
    }
  ],
  "metadata": {
    "language_info": {
      "name": "python"
    }
  },
  "nbformat": 4,
  "nbformat_minor": 2
}
